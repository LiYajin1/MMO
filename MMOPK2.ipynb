{
  "nbformat": 4,
  "nbformat_minor": 0,
  "metadata": {
    "colab": {
      "provenance": []
    },
    "kernelspec": {
      "name": "python3",
      "display_name": "Python 3"
    },
    "language_info": {
      "name": "python"
    }
  },
  "cells": [
    {
      "cell_type": "code",
      "source": [
        "# @title Загрузить набор данных\n",
        "from sklearn.feature_extraction.text import CountVectorizer, TfidfVectorizer\n",
        "from sklearn.model_selection import train_test_split\n",
        "from sklearn.neighbors import KNeighborsClassifier\n",
        "from sklearn.linear_model import LogisticRegression\n",
        "from sklearn.metrics import accuracy_score, classification_report\n",
        "import pandas as pd\n",
        "\n",
        "# Load dataset\n",
        "data = pd.read_csv('/content/data/train.csv')\n",
        "\n",
        "# Extracting features and labels\n",
        "texts = data['review_text'].tolist()\n",
        "labels = data['class_index'].tolist()\n",
        "\n",
        "# Splitting the dataset into training and testing sets\n",
        "train_texts, test_texts, train_labels, test_labels = train_test_split(texts, labels, test_size=0.2, random_state=42)\n"
      ],
      "metadata": {
        "id": "JceJgXRKrgAX"
      },
      "execution_count": 5,
      "outputs": []
    },
    {
      "cell_type": "code",
      "source": [
        "# @title  Преобразовать в вектор объектов\n",
        "# Method 1: Using CountVectorizer\n",
        "count_vectorizer = CountVectorizer()\n",
        "X_train_count = count_vectorizer.fit_transform(train_texts)\n",
        "X_test_count = count_vectorizer.transform(test_texts)\n",
        "\n",
        "# Method 2: Using TfidfVectorizer\n",
        "tfidf_vectorizer = TfidfVectorizer()\n",
        "X_train_tfidf = tfidf_vectorizer.fit_transform(train_texts)\n",
        "X_test_tfidf = tfidf_vectorizer.transform(test_texts)"
      ],
      "metadata": {
        "id": "cwnC-F3_sUzK"
      },
      "execution_count": 7,
      "outputs": []
    },
    {
      "cell_type": "code",
      "source": [
        "# @title Определить классификатор\n",
        "# Define classifiers\n",
        "knn_classifier = KNeighborsClassifier()\n",
        "logistic_classifier = LogisticRegression()"
      ],
      "metadata": {
        "id": "0JfhMQUEsjI9"
      },
      "execution_count": 8,
      "outputs": []
    },
    {
      "cell_type": "code",
      "source": [
        "# @title Обучение и тестирование с помощью CountVectorizer\n",
        "\n",
        "print(\"Training and testing with CountVectorizer:\")\n",
        "knn_classifier.fit(X_train_count, train_labels)\n",
        "knn_pred_count = knn_classifier.predict(X_test_count)\n",
        "print(\"KNN Accuracy (CountVectorizer):\", accuracy_score(test_labels, knn_pred_count))\n",
        "print(\"KNN Classification Report (CountVectorizer):\\n\", classification_report(test_labels, knn_pred_count))\n",
        "\n",
        "logistic_classifier.fit(X_train_count, train_labels)\n",
        "logistic_pred_count = logistic_classifier.predict(X_test_count)\n",
        "print(\"Logistic Regression Accuracy (CountVectorizer):\", accuracy_score(test_labels, logistic_pred_count))\n",
        "print(\"Logistic Regression Classification Report (CountVectorizer):\\n\", classification_report(test_labels, logistic_pred_count))"
      ],
      "metadata": {
        "colab": {
          "base_uri": "https://localhost:8080/"
        },
        "id": "6F79-t7nszZZ",
        "outputId": "748de30b-7102-4fda-8ff4-250d03fc7684"
      },
      "execution_count": 9,
      "outputs": [
        {
          "output_type": "stream",
          "name": "stdout",
          "text": [
            "Training and testing with CountVectorizer:\n",
            "KNN Accuracy (CountVectorizer): 0.6200407170167337\n",
            "KNN Classification Report (CountVectorizer):\n",
            "               precision    recall  f1-score   support\n",
            "\n",
            "           0       0.48      0.22      0.30       760\n",
            "           1       0.52      0.26      0.35      3287\n",
            "           2       0.64      0.93      0.76     11129\n",
            "           3       0.58      0.25      0.35      3982\n",
            "           4       0.56      0.15      0.23       981\n",
            "\n",
            "    accuracy                           0.62     20139\n",
            "   macro avg       0.55      0.36      0.40     20139\n",
            "weighted avg       0.60      0.62      0.57     20139\n",
            "\n",
            "Logistic Regression Accuracy (CountVectorizer): 0.6651770197129947\n",
            "Logistic Regression Classification Report (CountVectorizer):\n",
            "               precision    recall  f1-score   support\n",
            "\n",
            "           0       0.50      0.21      0.30       760\n",
            "           1       0.54      0.37      0.44      3287\n",
            "           2       0.71      0.90      0.79     11129\n",
            "           3       0.59      0.44      0.50      3982\n",
            "           4       0.58      0.32      0.41       981\n",
            "\n",
            "    accuracy                           0.67     20139\n",
            "   macro avg       0.59      0.45      0.49     20139\n",
            "weighted avg       0.64      0.67      0.64     20139\n",
            "\n"
          ]
        },
        {
          "output_type": "stream",
          "name": "stderr",
          "text": [
            "/usr/local/lib/python3.10/dist-packages/sklearn/linear_model/_logistic.py:458: ConvergenceWarning: lbfgs failed to converge (status=1):\n",
            "STOP: TOTAL NO. of ITERATIONS REACHED LIMIT.\n",
            "\n",
            "Increase the number of iterations (max_iter) or scale the data as shown in:\n",
            "    https://scikit-learn.org/stable/modules/preprocessing.html\n",
            "Please also refer to the documentation for alternative solver options:\n",
            "    https://scikit-learn.org/stable/modules/linear_model.html#logistic-regression\n",
            "  n_iter_i = _check_optimize_result(\n"
          ]
        }
      ]
    },
    {
      "cell_type": "code",
      "source": [
        "# @title Обучение и тестирование с помощью TfidfVectorizer\n",
        "#Training and testing with TfidfVectorizer\n",
        "\n",
        "print(\"\\nTraining and testing with TfidfVectorizer:\")\n",
        "knn_classifier.fit(X_train_tfidf, train_labels)\n",
        "knn_pred_tfidf = knn_classifier.predict(X_test_tfidf)\n",
        "print(\"KNN Accuracy (TfidfVectorizer):\", accuracy_score(test_labels, knn_pred_tfidf))\n",
        "print(\"KNN Classification Report (TfidfVectorizer):\\n\", classification_report(test_labels, knn_pred_tfidf))\n",
        "\n",
        "logistic_classifier.fit(X_train_tfidf, train_labels)\n",
        "logistic_pred_tfidf = logistic_classifier.predict(X_test_tfidf)\n",
        "print(\"Logistic Regression Accuracy (TfidfVectorizer):\", accuracy_score(test_labels, logistic_pred_tfidf))\n",
        "print(\"Logistic Regression Classification Report (TfidfVectorizer):\\n\", classification_report(test_labels, logistic_pred_tfidf))\n"
      ],
      "metadata": {
        "colab": {
          "base_uri": "https://localhost:8080/"
        },
        "id": "PB0EPoe-s3l4",
        "outputId": "fb9a90c8-b159-4bf5-fad1-55aff3a53528"
      },
      "execution_count": 10,
      "outputs": [
        {
          "output_type": "stream",
          "name": "stdout",
          "text": [
            "\n",
            "Training and testing with TfidfVectorizer:\n",
            "KNN Accuracy (TfidfVectorizer): 0.630766175083172\n",
            "KNN Classification Report (TfidfVectorizer):\n",
            "               precision    recall  f1-score   support\n",
            "\n",
            "           0       0.40      0.30      0.35       760\n",
            "           1       0.50      0.40      0.44      3287\n",
            "           2       0.68      0.85      0.76     11129\n",
            "           3       0.55      0.37      0.44      3982\n",
            "           4       0.51      0.22      0.30       981\n",
            "\n",
            "    accuracy                           0.63     20139\n",
            "   macro avg       0.53      0.43      0.46     20139\n",
            "weighted avg       0.61      0.63      0.61     20139\n",
            "\n",
            "Logistic Regression Accuracy (TfidfVectorizer): 0.6521674363175928\n",
            "Logistic Regression Classification Report (TfidfVectorizer):\n",
            "               precision    recall  f1-score   support\n",
            "\n",
            "           0       0.57      0.12      0.20       760\n",
            "           1       0.54      0.33      0.41      3287\n",
            "           2       0.69      0.90      0.78     11129\n",
            "           3       0.58      0.42      0.49      3982\n",
            "           4       0.63      0.21      0.31       981\n",
            "\n",
            "    accuracy                           0.65     20139\n",
            "   macro avg       0.60      0.40      0.44     20139\n",
            "weighted avg       0.63      0.65      0.62     20139\n",
            "\n"
          ]
        },
        {
          "output_type": "stream",
          "name": "stderr",
          "text": [
            "/usr/local/lib/python3.10/dist-packages/sklearn/linear_model/_logistic.py:458: ConvergenceWarning: lbfgs failed to converge (status=1):\n",
            "STOP: TOTAL NO. of ITERATIONS REACHED LIMIT.\n",
            "\n",
            "Increase the number of iterations (max_iter) or scale the data as shown in:\n",
            "    https://scikit-learn.org/stable/modules/preprocessing.html\n",
            "Please also refer to the documentation for alternative solver options:\n",
            "    https://scikit-learn.org/stable/modules/linear_model.html#logistic-regression\n",
            "  n_iter_i = _check_optimize_result(\n"
          ]
        }
      ]
    }
  ]
}